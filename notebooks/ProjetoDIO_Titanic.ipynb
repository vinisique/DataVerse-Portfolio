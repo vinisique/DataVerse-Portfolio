{
  "cells": [
    {
      "cell_type": "markdown",
      "metadata": {
        "id": "YJIWYKlBJMZf"
      },
      "source": [
        "#### Instituição de ensino: Digital Innovation One\n",
        "#### Bootcamp: Banco Carrefour Data Engineer\n",
        "#### Projeto: Índices de sobrevivência com dados do Titanic\n",
        "_______________________________________________________________________________"
      ]
    },
    {
      "cell_type": "markdown",
      "metadata": {
        "id": "Iyf3up1NSoii"
      },
      "source": [
        "## Dataset\n",
        "#### Disponível em: https://www.kaggle.com/rahulsah06/titanic?select=train.csv"
      ]
    },
    {
      "cell_type": "markdown",
      "metadata": {
        "id": "7WBw_hmyL5oh"
      },
      "source": [
        "## Pacotes necessários"
      ]
    },
    {
      "cell_type": "code",
      "execution_count": 40,
      "metadata": {
        "id": "ZdCFLvOrBkaE"
      },
      "outputs": [],
      "source": [
        "import pandas as pd #download da biblioteca Pandas do Python\n",
        "import numpy as np #download da biblioteca NumPy do Python\n",
        "from sklearn.ensemble import RandomForestClassifier #download do algoritmo de classificação Árvore Aleatória da biblioteca Scikit-learn\n",
        "from sklearn.model_selection import train_test_split #download de função auxiliar do Scikit-learn para separar o banco em treino e teste"
      ]
    },
    {
      "cell_type": "markdown",
      "metadata": {
        "id": "Z0yc0P0Lb2mj"
      },
      "source": [
        "## Leitura do banco de dados"
      ]
    },
    {
      "cell_type": "code",
      "execution_count": 41,
      "metadata": {
        "id": "KvNazaIucYrG"
      },
      "outputs": [],
      "source": [
        "dados = pd.read_csv('/content/train.csv') #execução da leitura do banco de dados do Titanic"
      ]
    },
    {
      "cell_type": "code",
      "execution_count": 42,
      "metadata": {
        "colab": {
          "base_uri": "https://localhost:8080/",
          "height": 241
        },
        "id": "m0SdTBZOdJGr",
        "outputId": "145d415b-8534-4916-e7fb-b0acd36a1155"
      },
      "outputs": [
        {
          "data": {
            "text/html": [
              "<div>\n",
              "<style scoped>\n",
              "    .dataframe tbody tr th:only-of-type {\n",
              "        vertical-align: middle;\n",
              "    }\n",
              "\n",
              "    .dataframe tbody tr th {\n",
              "        vertical-align: top;\n",
              "    }\n",
              "\n",
              "    .dataframe thead th {\n",
              "        text-align: right;\n",
              "    }\n",
              "</style>\n",
              "<table border=\"1\" class=\"dataframe\">\n",
              "  <thead>\n",
              "    <tr style=\"text-align: right;\">\n",
              "      <th></th>\n",
              "      <th>PassengerId</th>\n",
              "      <th>Survived</th>\n",
              "      <th>Pclass</th>\n",
              "      <th>Name</th>\n",
              "      <th>Sex</th>\n",
              "      <th>Age</th>\n",
              "      <th>SibSp</th>\n",
              "      <th>Parch</th>\n",
              "      <th>Ticket</th>\n",
              "      <th>Fare</th>\n",
              "      <th>Cabin</th>\n",
              "      <th>Embarked</th>\n",
              "    </tr>\n",
              "  </thead>\n",
              "  <tbody>\n",
              "    <tr>\n",
              "      <th>0</th>\n",
              "      <td>1</td>\n",
              "      <td>0</td>\n",
              "      <td>3</td>\n",
              "      <td>Braund, Mr. Owen Harris</td>\n",
              "      <td>male</td>\n",
              "      <td>22.0</td>\n",
              "      <td>1</td>\n",
              "      <td>0</td>\n",
              "      <td>A/5 21171</td>\n",
              "      <td>7.2500</td>\n",
              "      <td>NaN</td>\n",
              "      <td>S</td>\n",
              "    </tr>\n",
              "    <tr>\n",
              "      <th>1</th>\n",
              "      <td>2</td>\n",
              "      <td>1</td>\n",
              "      <td>1</td>\n",
              "      <td>Cumings, Mrs. John Bradley (Florence Briggs Th...</td>\n",
              "      <td>female</td>\n",
              "      <td>38.0</td>\n",
              "      <td>1</td>\n",
              "      <td>0</td>\n",
              "      <td>PC 17599</td>\n",
              "      <td>71.2833</td>\n",
              "      <td>C85</td>\n",
              "      <td>C</td>\n",
              "    </tr>\n",
              "    <tr>\n",
              "      <th>2</th>\n",
              "      <td>3</td>\n",
              "      <td>1</td>\n",
              "      <td>3</td>\n",
              "      <td>Heikkinen, Miss. Laina</td>\n",
              "      <td>female</td>\n",
              "      <td>26.0</td>\n",
              "      <td>0</td>\n",
              "      <td>0</td>\n",
              "      <td>STON/O2. 3101282</td>\n",
              "      <td>7.9250</td>\n",
              "      <td>NaN</td>\n",
              "      <td>S</td>\n",
              "    </tr>\n",
              "    <tr>\n",
              "      <th>3</th>\n",
              "      <td>4</td>\n",
              "      <td>1</td>\n",
              "      <td>1</td>\n",
              "      <td>Futrelle, Mrs. Jacques Heath (Lily May Peel)</td>\n",
              "      <td>female</td>\n",
              "      <td>35.0</td>\n",
              "      <td>1</td>\n",
              "      <td>0</td>\n",
              "      <td>113803</td>\n",
              "      <td>53.1000</td>\n",
              "      <td>C123</td>\n",
              "      <td>S</td>\n",
              "    </tr>\n",
              "    <tr>\n",
              "      <th>4</th>\n",
              "      <td>5</td>\n",
              "      <td>0</td>\n",
              "      <td>3</td>\n",
              "      <td>Allen, Mr. William Henry</td>\n",
              "      <td>male</td>\n",
              "      <td>35.0</td>\n",
              "      <td>0</td>\n",
              "      <td>0</td>\n",
              "      <td>373450</td>\n",
              "      <td>8.0500</td>\n",
              "      <td>NaN</td>\n",
              "      <td>S</td>\n",
              "    </tr>\n",
              "  </tbody>\n",
              "</table>\n",
              "</div>"
            ],
            "text/plain": [
              "   PassengerId  Survived  Pclass  ...     Fare Cabin  Embarked\n",
              "0            1         0       3  ...   7.2500   NaN         S\n",
              "1            2         1       1  ...  71.2833   C85         C\n",
              "2            3         1       3  ...   7.9250   NaN         S\n",
              "3            4         1       1  ...  53.1000  C123         S\n",
              "4            5         0       3  ...   8.0500   NaN         S\n",
              "\n",
              "[5 rows x 12 columns]"
            ]
          },
          "execution_count": 42,
          "metadata": {
            "tags": []
          },
          "output_type": "execute_result"
        }
      ],
      "source": [
        "dados.head() #1a. saída da leitura de dados"
      ]
    },
    {
      "cell_type": "code",
      "execution_count": 43,
      "metadata": {
        "id": "TUODAPT4d3t1"
      },
      "outputs": [],
      "source": [
        "dados = dados.drop(['Name','Ticket','Cabin','Embarked'], axis = 1) #exclusão de variáveis irrelevantes para a análise descritiva"
      ]
    },
    {
      "cell_type": "code",
      "execution_count": 44,
      "metadata": {
        "colab": {
          "base_uri": "https://localhost:8080/",
          "height": 206
        },
        "id": "yWcnG9rneidu",
        "outputId": "5e2fb840-2957-4ba9-c083-62a76165871a"
      },
      "outputs": [
        {
          "data": {
            "text/html": [
              "<div>\n",
              "<style scoped>\n",
              "    .dataframe tbody tr th:only-of-type {\n",
              "        vertical-align: middle;\n",
              "    }\n",
              "\n",
              "    .dataframe tbody tr th {\n",
              "        vertical-align: top;\n",
              "    }\n",
              "\n",
              "    .dataframe thead th {\n",
              "        text-align: right;\n",
              "    }\n",
              "</style>\n",
              "<table border=\"1\" class=\"dataframe\">\n",
              "  <thead>\n",
              "    <tr style=\"text-align: right;\">\n",
              "      <th></th>\n",
              "      <th>PassengerId</th>\n",
              "      <th>Survived</th>\n",
              "      <th>Pclass</th>\n",
              "      <th>Sex</th>\n",
              "      <th>Age</th>\n",
              "      <th>SibSp</th>\n",
              "      <th>Parch</th>\n",
              "      <th>Fare</th>\n",
              "    </tr>\n",
              "  </thead>\n",
              "  <tbody>\n",
              "    <tr>\n",
              "      <th>0</th>\n",
              "      <td>1</td>\n",
              "      <td>0</td>\n",
              "      <td>3</td>\n",
              "      <td>male</td>\n",
              "      <td>22.0</td>\n",
              "      <td>1</td>\n",
              "      <td>0</td>\n",
              "      <td>7.2500</td>\n",
              "    </tr>\n",
              "    <tr>\n",
              "      <th>1</th>\n",
              "      <td>2</td>\n",
              "      <td>1</td>\n",
              "      <td>1</td>\n",
              "      <td>female</td>\n",
              "      <td>38.0</td>\n",
              "      <td>1</td>\n",
              "      <td>0</td>\n",
              "      <td>71.2833</td>\n",
              "    </tr>\n",
              "    <tr>\n",
              "      <th>2</th>\n",
              "      <td>3</td>\n",
              "      <td>1</td>\n",
              "      <td>3</td>\n",
              "      <td>female</td>\n",
              "      <td>26.0</td>\n",
              "      <td>0</td>\n",
              "      <td>0</td>\n",
              "      <td>7.9250</td>\n",
              "    </tr>\n",
              "    <tr>\n",
              "      <th>3</th>\n",
              "      <td>4</td>\n",
              "      <td>1</td>\n",
              "      <td>1</td>\n",
              "      <td>female</td>\n",
              "      <td>35.0</td>\n",
              "      <td>1</td>\n",
              "      <td>0</td>\n",
              "      <td>53.1000</td>\n",
              "    </tr>\n",
              "    <tr>\n",
              "      <th>4</th>\n",
              "      <td>5</td>\n",
              "      <td>0</td>\n",
              "      <td>3</td>\n",
              "      <td>male</td>\n",
              "      <td>35.0</td>\n",
              "      <td>0</td>\n",
              "      <td>0</td>\n",
              "      <td>8.0500</td>\n",
              "    </tr>\n",
              "  </tbody>\n",
              "</table>\n",
              "</div>"
            ],
            "text/plain": [
              "   PassengerId  Survived  Pclass     Sex   Age  SibSp  Parch     Fare\n",
              "0            1         0       3    male  22.0      1      0   7.2500\n",
              "1            2         1       1  female  38.0      1      0  71.2833\n",
              "2            3         1       3  female  26.0      0      0   7.9250\n",
              "3            4         1       1  female  35.0      1      0  53.1000\n",
              "4            5         0       3    male  35.0      0      0   8.0500"
            ]
          },
          "execution_count": 44,
          "metadata": {
            "tags": []
          },
          "output_type": "execute_result"
        }
      ],
      "source": [
        "dados.head() #2a. saída da leitura de dados em planilha reduzida "
      ]
    },
    {
      "cell_type": "markdown",
      "metadata": {
        "id": "0qp0Zkaxfc4S"
      },
      "source": [
        "## Edição de Chave e Variável Resposta"
      ]
    },
    {
      "cell_type": "code",
      "execution_count": 45,
      "metadata": {
        "id": "b1Q64Y5ThWAz"
      },
      "outputs": [],
      "source": [
        "dados = dados.set_index(['PassengerId']) #criação de chave forte para o index\n",
        "dados = dados.rename(columns={'Survived':'target'}, inplace= False) #variável Survived é renomeada como variável alvo"
      ]
    },
    {
      "cell_type": "code",
      "execution_count": 46,
      "metadata": {
        "colab": {
          "base_uri": "https://localhost:8080/",
          "height": 238
        },
        "id": "DBrilGnumca5",
        "outputId": "f39a0610-e335-4ba6-be55-4d2a8a9128c1"
      },
      "outputs": [
        {
          "data": {
            "text/html": [
              "<div>\n",
              "<style scoped>\n",
              "    .dataframe tbody tr th:only-of-type {\n",
              "        vertical-align: middle;\n",
              "    }\n",
              "\n",
              "    .dataframe tbody tr th {\n",
              "        vertical-align: top;\n",
              "    }\n",
              "\n",
              "    .dataframe thead th {\n",
              "        text-align: right;\n",
              "    }\n",
              "</style>\n",
              "<table border=\"1\" class=\"dataframe\">\n",
              "  <thead>\n",
              "    <tr style=\"text-align: right;\">\n",
              "      <th></th>\n",
              "      <th>target</th>\n",
              "      <th>Pclass</th>\n",
              "      <th>Sex</th>\n",
              "      <th>Age</th>\n",
              "      <th>SibSp</th>\n",
              "      <th>Parch</th>\n",
              "      <th>Fare</th>\n",
              "    </tr>\n",
              "    <tr>\n",
              "      <th>PassengerId</th>\n",
              "      <th></th>\n",
              "      <th></th>\n",
              "      <th></th>\n",
              "      <th></th>\n",
              "      <th></th>\n",
              "      <th></th>\n",
              "      <th></th>\n",
              "    </tr>\n",
              "  </thead>\n",
              "  <tbody>\n",
              "    <tr>\n",
              "      <th>1</th>\n",
              "      <td>0</td>\n",
              "      <td>3</td>\n",
              "      <td>male</td>\n",
              "      <td>22.0</td>\n",
              "      <td>1</td>\n",
              "      <td>0</td>\n",
              "      <td>7.2500</td>\n",
              "    </tr>\n",
              "    <tr>\n",
              "      <th>2</th>\n",
              "      <td>1</td>\n",
              "      <td>1</td>\n",
              "      <td>female</td>\n",
              "      <td>38.0</td>\n",
              "      <td>1</td>\n",
              "      <td>0</td>\n",
              "      <td>71.2833</td>\n",
              "    </tr>\n",
              "    <tr>\n",
              "      <th>3</th>\n",
              "      <td>1</td>\n",
              "      <td>3</td>\n",
              "      <td>female</td>\n",
              "      <td>26.0</td>\n",
              "      <td>0</td>\n",
              "      <td>0</td>\n",
              "      <td>7.9250</td>\n",
              "    </tr>\n",
              "    <tr>\n",
              "      <th>4</th>\n",
              "      <td>1</td>\n",
              "      <td>1</td>\n",
              "      <td>female</td>\n",
              "      <td>35.0</td>\n",
              "      <td>1</td>\n",
              "      <td>0</td>\n",
              "      <td>53.1000</td>\n",
              "    </tr>\n",
              "    <tr>\n",
              "      <th>5</th>\n",
              "      <td>0</td>\n",
              "      <td>3</td>\n",
              "      <td>male</td>\n",
              "      <td>35.0</td>\n",
              "      <td>0</td>\n",
              "      <td>0</td>\n",
              "      <td>8.0500</td>\n",
              "    </tr>\n",
              "  </tbody>\n",
              "</table>\n",
              "</div>"
            ],
            "text/plain": [
              "             target  Pclass     Sex   Age  SibSp  Parch     Fare\n",
              "PassengerId                                                     \n",
              "1                 0       3    male  22.0      1      0   7.2500\n",
              "2                 1       1  female  38.0      1      0  71.2833\n",
              "3                 1       3  female  26.0      0      0   7.9250\n",
              "4                 1       1  female  35.0      1      0  53.1000\n",
              "5                 0       3    male  35.0      0      0   8.0500"
            ]
          },
          "execution_count": 46,
          "metadata": {
            "tags": []
          },
          "output_type": "execute_result"
        }
      ],
      "source": [
        "dados.head() #3a. saída da leitura de dados com chave index e variável target"
      ]
    },
    {
      "cell_type": "markdown",
      "metadata": {
        "id": "Mw7ywZnVsIgi"
      },
      "source": [
        "## Descritiva"
      ]
    },
    {
      "cell_type": "code",
      "execution_count": 47,
      "metadata": {
        "colab": {
          "base_uri": "https://localhost:8080/",
          "height": 301
        },
        "id": "-O-dATgwsMw8",
        "outputId": "dcaeec58-659f-439b-a156-42dcc163f705"
      },
      "outputs": [
        {
          "data": {
            "text/html": [
              "<div>\n",
              "<style scoped>\n",
              "    .dataframe tbody tr th:only-of-type {\n",
              "        vertical-align: middle;\n",
              "    }\n",
              "\n",
              "    .dataframe tbody tr th {\n",
              "        vertical-align: top;\n",
              "    }\n",
              "\n",
              "    .dataframe thead th {\n",
              "        text-align: right;\n",
              "    }\n",
              "</style>\n",
              "<table border=\"1\" class=\"dataframe\">\n",
              "  <thead>\n",
              "    <tr style=\"text-align: right;\">\n",
              "      <th></th>\n",
              "      <th>target</th>\n",
              "      <th>Pclass</th>\n",
              "      <th>Age</th>\n",
              "      <th>SibSp</th>\n",
              "      <th>Parch</th>\n",
              "      <th>Fare</th>\n",
              "    </tr>\n",
              "  </thead>\n",
              "  <tbody>\n",
              "    <tr>\n",
              "      <th>count</th>\n",
              "      <td>891.000000</td>\n",
              "      <td>891.000000</td>\n",
              "      <td>714.000000</td>\n",
              "      <td>891.000000</td>\n",
              "      <td>891.000000</td>\n",
              "      <td>891.000000</td>\n",
              "    </tr>\n",
              "    <tr>\n",
              "      <th>mean</th>\n",
              "      <td>0.383838</td>\n",
              "      <td>2.308642</td>\n",
              "      <td>29.699118</td>\n",
              "      <td>0.523008</td>\n",
              "      <td>0.381594</td>\n",
              "      <td>32.204208</td>\n",
              "    </tr>\n",
              "    <tr>\n",
              "      <th>std</th>\n",
              "      <td>0.486592</td>\n",
              "      <td>0.836071</td>\n",
              "      <td>14.526497</td>\n",
              "      <td>1.102743</td>\n",
              "      <td>0.806057</td>\n",
              "      <td>49.693429</td>\n",
              "    </tr>\n",
              "    <tr>\n",
              "      <th>min</th>\n",
              "      <td>0.000000</td>\n",
              "      <td>1.000000</td>\n",
              "      <td>0.420000</td>\n",
              "      <td>0.000000</td>\n",
              "      <td>0.000000</td>\n",
              "      <td>0.000000</td>\n",
              "    </tr>\n",
              "    <tr>\n",
              "      <th>25%</th>\n",
              "      <td>0.000000</td>\n",
              "      <td>2.000000</td>\n",
              "      <td>20.125000</td>\n",
              "      <td>0.000000</td>\n",
              "      <td>0.000000</td>\n",
              "      <td>7.910400</td>\n",
              "    </tr>\n",
              "    <tr>\n",
              "      <th>50%</th>\n",
              "      <td>0.000000</td>\n",
              "      <td>3.000000</td>\n",
              "      <td>28.000000</td>\n",
              "      <td>0.000000</td>\n",
              "      <td>0.000000</td>\n",
              "      <td>14.454200</td>\n",
              "    </tr>\n",
              "    <tr>\n",
              "      <th>75%</th>\n",
              "      <td>1.000000</td>\n",
              "      <td>3.000000</td>\n",
              "      <td>38.000000</td>\n",
              "      <td>1.000000</td>\n",
              "      <td>0.000000</td>\n",
              "      <td>31.000000</td>\n",
              "    </tr>\n",
              "    <tr>\n",
              "      <th>max</th>\n",
              "      <td>1.000000</td>\n",
              "      <td>3.000000</td>\n",
              "      <td>80.000000</td>\n",
              "      <td>8.000000</td>\n",
              "      <td>6.000000</td>\n",
              "      <td>512.329200</td>\n",
              "    </tr>\n",
              "  </tbody>\n",
              "</table>\n",
              "</div>"
            ],
            "text/plain": [
              "           target      Pclass         Age       SibSp       Parch        Fare\n",
              "count  891.000000  891.000000  714.000000  891.000000  891.000000  891.000000\n",
              "mean     0.383838    2.308642   29.699118    0.523008    0.381594   32.204208\n",
              "std      0.486592    0.836071   14.526497    1.102743    0.806057   49.693429\n",
              "min      0.000000    1.000000    0.420000    0.000000    0.000000    0.000000\n",
              "25%      0.000000    2.000000   20.125000    0.000000    0.000000    7.910400\n",
              "50%      0.000000    3.000000   28.000000    0.000000    0.000000   14.454200\n",
              "75%      1.000000    3.000000   38.000000    1.000000    0.000000   31.000000\n",
              "max      1.000000    3.000000   80.000000    8.000000    6.000000  512.329200"
            ]
          },
          "execution_count": 47,
          "metadata": {
            "tags": []
          },
          "output_type": "execute_result"
        }
      ],
      "source": [
        "dados.describe() #1a. versão da análise descritiva a partir de variáveis numéricas"
      ]
    },
    {
      "cell_type": "code",
      "execution_count": 48,
      "metadata": {
        "colab": {
          "base_uri": "https://localhost:8080/",
          "height": 175
        },
        "id": "GqPLtxDQYcKM",
        "outputId": "453bb7f5-c3a7-4552-ec55-6b73d03839ab"
      },
      "outputs": [
        {
          "data": {
            "text/html": [
              "<div>\n",
              "<style scoped>\n",
              "    .dataframe tbody tr th:only-of-type {\n",
              "        vertical-align: middle;\n",
              "    }\n",
              "\n",
              "    .dataframe tbody tr th {\n",
              "        vertical-align: top;\n",
              "    }\n",
              "\n",
              "    .dataframe thead th {\n",
              "        text-align: right;\n",
              "    }\n",
              "</style>\n",
              "<table border=\"1\" class=\"dataframe\">\n",
              "  <thead>\n",
              "    <tr style=\"text-align: right;\">\n",
              "      <th></th>\n",
              "      <th>Sex</th>\n",
              "    </tr>\n",
              "  </thead>\n",
              "  <tbody>\n",
              "    <tr>\n",
              "      <th>count</th>\n",
              "      <td>891</td>\n",
              "    </tr>\n",
              "    <tr>\n",
              "      <th>unique</th>\n",
              "      <td>2</td>\n",
              "    </tr>\n",
              "    <tr>\n",
              "      <th>top</th>\n",
              "      <td>male</td>\n",
              "    </tr>\n",
              "    <tr>\n",
              "      <th>freq</th>\n",
              "      <td>577</td>\n",
              "    </tr>\n",
              "  </tbody>\n",
              "</table>\n",
              "</div>"
            ],
            "text/plain": [
              "         Sex\n",
              "count    891\n",
              "unique     2\n",
              "top     male\n",
              "freq     577"
            ]
          },
          "execution_count": 48,
          "metadata": {
            "tags": []
          },
          "output_type": "execute_result"
        }
      ],
      "source": [
        "dados.describe(include= ['O']) # inclusão de variável não numérica (string Sex) na análise"
      ]
    },
    {
      "cell_type": "markdown",
      "metadata": {
        "id": "c12E0WgI3Vi-"
      },
      "source": [
        "## Transformação dos dados"
      ]
    },
    {
      "cell_type": "code",
      "execution_count": 49,
      "metadata": {
        "id": "pb9Q_fOW3a86"
      },
      "outputs": [],
      "source": [
        "dados['Sex_F'] = np.where(dados['Sex'] == 'female', 1, 0) #transformação de variável não numérica em variável numérica\n",
        "\n",
        "dados['Pclass_1'] = np.where(dados['Pclass'] == 1, 1, 0) #estratificação da 1ª classe de passageiro do navio\n",
        "dados['Pclass_2'] = np.where(dados['Pclass'] == 2, 1, 0) #estratificação da 2ª classe de passageiro do navio\n",
        "dados['Pclass_3'] = np.where(dados['Pclass'] == 3, 1, 0) #estratificação da 3ª classe de passageiro do navio"
      ]
    },
    {
      "cell_type": "code",
      "execution_count": 50,
      "metadata": {
        "id": "mBwBIRq24aro"
      },
      "outputs": [],
      "source": [
        "dados = dados.drop(['Pclass', 'Sex'], axis = 1) #exclusão das colunas originais após transformação dos dados"
      ]
    },
    {
      "cell_type": "code",
      "execution_count": 51,
      "metadata": {
        "colab": {
          "base_uri": "https://localhost:8080/",
          "height": 238
        },
        "id": "-Bbku9Ck4u5u",
        "outputId": "d5fe2d8e-474b-4630-a82f-7a31521e873f"
      },
      "outputs": [
        {
          "data": {
            "text/html": [
              "<div>\n",
              "<style scoped>\n",
              "    .dataframe tbody tr th:only-of-type {\n",
              "        vertical-align: middle;\n",
              "    }\n",
              "\n",
              "    .dataframe tbody tr th {\n",
              "        vertical-align: top;\n",
              "    }\n",
              "\n",
              "    .dataframe thead th {\n",
              "        text-align: right;\n",
              "    }\n",
              "</style>\n",
              "<table border=\"1\" class=\"dataframe\">\n",
              "  <thead>\n",
              "    <tr style=\"text-align: right;\">\n",
              "      <th></th>\n",
              "      <th>target</th>\n",
              "      <th>Age</th>\n",
              "      <th>SibSp</th>\n",
              "      <th>Parch</th>\n",
              "      <th>Fare</th>\n",
              "      <th>Sex_F</th>\n",
              "      <th>Pclass_1</th>\n",
              "      <th>Pclass_2</th>\n",
              "      <th>Pclass_3</th>\n",
              "    </tr>\n",
              "    <tr>\n",
              "      <th>PassengerId</th>\n",
              "      <th></th>\n",
              "      <th></th>\n",
              "      <th></th>\n",
              "      <th></th>\n",
              "      <th></th>\n",
              "      <th></th>\n",
              "      <th></th>\n",
              "      <th></th>\n",
              "      <th></th>\n",
              "    </tr>\n",
              "  </thead>\n",
              "  <tbody>\n",
              "    <tr>\n",
              "      <th>1</th>\n",
              "      <td>0</td>\n",
              "      <td>22.0</td>\n",
              "      <td>1</td>\n",
              "      <td>0</td>\n",
              "      <td>7.2500</td>\n",
              "      <td>0</td>\n",
              "      <td>0</td>\n",
              "      <td>0</td>\n",
              "      <td>1</td>\n",
              "    </tr>\n",
              "    <tr>\n",
              "      <th>2</th>\n",
              "      <td>1</td>\n",
              "      <td>38.0</td>\n",
              "      <td>1</td>\n",
              "      <td>0</td>\n",
              "      <td>71.2833</td>\n",
              "      <td>1</td>\n",
              "      <td>1</td>\n",
              "      <td>0</td>\n",
              "      <td>0</td>\n",
              "    </tr>\n",
              "    <tr>\n",
              "      <th>3</th>\n",
              "      <td>1</td>\n",
              "      <td>26.0</td>\n",
              "      <td>0</td>\n",
              "      <td>0</td>\n",
              "      <td>7.9250</td>\n",
              "      <td>1</td>\n",
              "      <td>0</td>\n",
              "      <td>0</td>\n",
              "      <td>1</td>\n",
              "    </tr>\n",
              "    <tr>\n",
              "      <th>4</th>\n",
              "      <td>1</td>\n",
              "      <td>35.0</td>\n",
              "      <td>1</td>\n",
              "      <td>0</td>\n",
              "      <td>53.1000</td>\n",
              "      <td>1</td>\n",
              "      <td>1</td>\n",
              "      <td>0</td>\n",
              "      <td>0</td>\n",
              "    </tr>\n",
              "    <tr>\n",
              "      <th>5</th>\n",
              "      <td>0</td>\n",
              "      <td>35.0</td>\n",
              "      <td>0</td>\n",
              "      <td>0</td>\n",
              "      <td>8.0500</td>\n",
              "      <td>0</td>\n",
              "      <td>0</td>\n",
              "      <td>0</td>\n",
              "      <td>1</td>\n",
              "    </tr>\n",
              "  </tbody>\n",
              "</table>\n",
              "</div>"
            ],
            "text/plain": [
              "             target   Age  SibSp  Parch  ...  Sex_F  Pclass_1  Pclass_2  Pclass_3\n",
              "PassengerId                              ...                                     \n",
              "1                 0  22.0      1      0  ...      0         0         0         1\n",
              "2                 1  38.0      1      0  ...      1         1         0         0\n",
              "3                 1  26.0      0      0  ...      1         0         0         1\n",
              "4                 1  35.0      1      0  ...      1         1         0         0\n",
              "5                 0  35.0      0      0  ...      0         0         0         1\n",
              "\n",
              "[5 rows x 9 columns]"
            ]
          },
          "execution_count": 51,
          "metadata": {
            "tags": []
          },
          "output_type": "execute_result"
        }
      ],
      "source": [
        "dados.head() #4a. saída da leitura de dados com as variáveis transformadas (Sex_F, Pclass_1, Pclass_2, Pclass_3)"
      ]
    },
    {
      "cell_type": "code",
      "execution_count": 52,
      "metadata": {
        "colab": {
          "base_uri": "https://localhost:8080/"
        },
        "id": "p9q7FZhg6U6J",
        "outputId": "ced981fc-1a35-4ffd-fcb2-49a2481f7ffe"
      },
      "outputs": [
        {
          "data": {
            "text/plain": [
              "target        0\n",
              "Age         177\n",
              "SibSp         0\n",
              "Parch         0\n",
              "Fare          0\n",
              "Sex_F         0\n",
              "Pclass_1      0\n",
              "Pclass_2      0\n",
              "Pclass_3      0\n",
              "dtype: int64"
            ]
          },
          "execution_count": 52,
          "metadata": {
            "tags": []
          },
          "output_type": "execute_result"
        }
      ],
      "source": [
        "dados.isnull().sum() #resumo de variáveis para verificar onde há dados perdidos"
      ]
    },
    {
      "cell_type": "code",
      "execution_count": 53,
      "metadata": {
        "id": "8YoLjPY-6yli"
      },
      "outputs": [],
      "source": [
        "dados.fillna(0, inplace= True) #preenchimento das colunas dos dados perdidos com zero"
      ]
    },
    {
      "cell_type": "code",
      "execution_count": 54,
      "metadata": {
        "colab": {
          "base_uri": "https://localhost:8080/"
        },
        "id": "myGVsiHNKxrK",
        "outputId": "375120f7-9f55-452d-dd61-2c07a71607b0"
      },
      "outputs": [
        {
          "data": {
            "text/plain": [
              "target      0\n",
              "Age         0\n",
              "SibSp       0\n",
              "Parch       0\n",
              "Fare        0\n",
              "Sex_F       0\n",
              "Pclass_1    0\n",
              "Pclass_2    0\n",
              "Pclass_3    0\n",
              "dtype: int64"
            ]
          },
          "execution_count": 54,
          "metadata": {
            "tags": []
          },
          "output_type": "execute_result"
        }
      ],
      "source": [
        "dados.isnull().sum() #resumo de variáveis após substituições de dados perdidos"
      ]
    },
    {
      "cell_type": "markdown",
      "metadata": {
        "id": "9dyk6QqTLq8R"
      },
      "source": [
        "## Amostragem"
      ]
    },
    {
      "cell_type": "code",
      "execution_count": 55,
      "metadata": {
        "colab": {
          "base_uri": "https://localhost:8080/"
        },
        "id": "qQ2rp7RqLuxi",
        "outputId": "b55d335c-0870-4b91-95e6-5d5a878dfc19"
      },
      "outputs": [
        {
          "data": {
            "text/plain": [
              "[{'treino': (623, 8)}, {'teste': (268, 8)}]"
            ]
          },
          "execution_count": 55,
          "metadata": {
            "tags": []
          },
          "output_type": "execute_result"
        }
      ],
      "source": [
        "x_train, x_test, y_train, y_test = train_test_split(dados.drop(['target'], axis=1), #divisão da amostra conforme a variável alvo\n",
        "                                                    dados[\"target\"], #parâmetro da divisão é a variável Survived\n",
        "                                                    test_size = 0.3, #divisao do banco de dados na proporçao 30/70 (teste/treino)\n",
        "                                                    random_state = 1234) #fixa o resultado de precisão do modelo para reprodução posterior\n",
        "\n",
        "[{'treino': x_train.shape},{'teste': x_test.shape}] #demonstra a divisão em treino e teste com nro de linhas e colunas para cada banco                                                  "
      ]
    },
    {
      "cell_type": "markdown",
      "metadata": {
        "id": "xk059i94Wat0"
      },
      "source": [
        "## Modelo\n",
        "![random_forest_logo.png](data:image/png;base64,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)"
      ]
    },
    {
      "cell_type": "code",
      "execution_count": 56,
      "metadata": {
        "colab": {
          "base_uri": "https://localhost:8080/"
        },
        "id": "buCC4z_4XpA_",
        "outputId": "425fbbcc-083d-4bf1-83ea-b296c30a6fd9"
      },
      "outputs": [
        {
          "data": {
            "text/plain": [
              "RandomForestClassifier(bootstrap=True, ccp_alpha=0.0, class_weight=None,\n",
              "                       criterion='gini', max_depth=5, max_features='auto',\n",
              "                       max_leaf_nodes=None, max_samples=None,\n",
              "                       min_impurity_decrease=0.0, min_impurity_split=None,\n",
              "                       min_samples_leaf=1, min_samples_split=2,\n",
              "                       min_weight_fraction_leaf=0.0, n_estimators=1000,\n",
              "                       n_jobs=None, oob_score=False, random_state=None,\n",
              "                       verbose=0, warm_start=False)"
            ]
          },
          "execution_count": 56,
          "metadata": {
            "tags": []
          },
          "output_type": "execute_result"
        }
      ],
      "source": [
        "rndforest = RandomForestClassifier(n_estimators= 1000, #criação do modelo com 1000 árvores\n",
        "                                   criterion= 'gini', #fixa o criterio de análise, gini isola em 1 ramo da árvore a classe mais frequente                              \n",
        "                                   max_depth= 5) #fixa a profundidade das árvores\n",
        "\n",
        "rndforest.fit(x_train, y_train) #calcula o modelo de acordo com os parâmetros passados              "
      ]
    },
    {
      "cell_type": "code",
      "execution_count": 21,
      "metadata": {
        "id": "qkhja-6jfa37"
      },
      "outputs": [],
      "source": [
        "probabilidade = rndforest.predict_proba(dados.drop('target',axis = 1))[:,1] #predição com regressão da probalidade de sobrevivência \n",
        "classificacao = rndforest.predict(dados.drop('target', axis= 1)) #predição com classificação em sobrevivente ou não sobrevivente"
      ]
    },
    {
      "cell_type": "code",
      "execution_count": 57,
      "metadata": {
        "id": "BV8ckpiFgYAO"
      },
      "outputs": [],
      "source": [
        "dados['probabilidade'] = probabilidade #definição da coluna com resultado da probabilidade\n",
        "dados['classificacao'] = classificacao #definição da coluna com resultado da classificação"
      ]
    },
    {
      "cell_type": "code",
      "execution_count": 58,
      "metadata": {
        "colab": {
          "base_uri": "https://localhost:8080/",
          "height": 455
        },
        "id": "bXjkVStNP7bf",
        "outputId": "9daa47b3-6532-4ab9-b4d0-2f80a5a47176"
      },
      "outputs": [
        {
          "data": {
            "text/html": [
              "<div>\n",
              "<style scoped>\n",
              "    .dataframe tbody tr th:only-of-type {\n",
              "        vertical-align: middle;\n",
              "    }\n",
              "\n",
              "    .dataframe tbody tr th {\n",
              "        vertical-align: top;\n",
              "    }\n",
              "\n",
              "    .dataframe thead th {\n",
              "        text-align: right;\n",
              "    }\n",
              "</style>\n",
              "<table border=\"1\" class=\"dataframe\">\n",
              "  <thead>\n",
              "    <tr style=\"text-align: right;\">\n",
              "      <th></th>\n",
              "      <th>target</th>\n",
              "      <th>Age</th>\n",
              "      <th>SibSp</th>\n",
              "      <th>Parch</th>\n",
              "      <th>Fare</th>\n",
              "      <th>Sex_F</th>\n",
              "      <th>Pclass_1</th>\n",
              "      <th>Pclass_2</th>\n",
              "      <th>Pclass_3</th>\n",
              "      <th>probabilidade</th>\n",
              "      <th>classificacao</th>\n",
              "    </tr>\n",
              "    <tr>\n",
              "      <th>PassengerId</th>\n",
              "      <th></th>\n",
              "      <th></th>\n",
              "      <th></th>\n",
              "      <th></th>\n",
              "      <th></th>\n",
              "      <th></th>\n",
              "      <th></th>\n",
              "      <th></th>\n",
              "      <th></th>\n",
              "      <th></th>\n",
              "      <th></th>\n",
              "    </tr>\n",
              "  </thead>\n",
              "  <tbody>\n",
              "    <tr>\n",
              "      <th>1</th>\n",
              "      <td>0</td>\n",
              "      <td>22.0</td>\n",
              "      <td>1</td>\n",
              "      <td>0</td>\n",
              "      <td>7.2500</td>\n",
              "      <td>0</td>\n",
              "      <td>0</td>\n",
              "      <td>0</td>\n",
              "      <td>1</td>\n",
              "      <td>0.128840</td>\n",
              "      <td>0</td>\n",
              "    </tr>\n",
              "    <tr>\n",
              "      <th>2</th>\n",
              "      <td>1</td>\n",
              "      <td>38.0</td>\n",
              "      <td>1</td>\n",
              "      <td>0</td>\n",
              "      <td>71.2833</td>\n",
              "      <td>1</td>\n",
              "      <td>1</td>\n",
              "      <td>0</td>\n",
              "      <td>0</td>\n",
              "      <td>0.932805</td>\n",
              "      <td>1</td>\n",
              "    </tr>\n",
              "    <tr>\n",
              "      <th>3</th>\n",
              "      <td>1</td>\n",
              "      <td>26.0</td>\n",
              "      <td>0</td>\n",
              "      <td>0</td>\n",
              "      <td>7.9250</td>\n",
              "      <td>1</td>\n",
              "      <td>0</td>\n",
              "      <td>0</td>\n",
              "      <td>1</td>\n",
              "      <td>0.447328</td>\n",
              "      <td>0</td>\n",
              "    </tr>\n",
              "    <tr>\n",
              "      <th>4</th>\n",
              "      <td>1</td>\n",
              "      <td>35.0</td>\n",
              "      <td>1</td>\n",
              "      <td>0</td>\n",
              "      <td>53.1000</td>\n",
              "      <td>1</td>\n",
              "      <td>1</td>\n",
              "      <td>0</td>\n",
              "      <td>0</td>\n",
              "      <td>0.912914</td>\n",
              "      <td>1</td>\n",
              "    </tr>\n",
              "    <tr>\n",
              "      <th>5</th>\n",
              "      <td>0</td>\n",
              "      <td>35.0</td>\n",
              "      <td>0</td>\n",
              "      <td>0</td>\n",
              "      <td>8.0500</td>\n",
              "      <td>0</td>\n",
              "      <td>0</td>\n",
              "      <td>0</td>\n",
              "      <td>1</td>\n",
              "      <td>0.141917</td>\n",
              "      <td>0</td>\n",
              "    </tr>\n",
              "    <tr>\n",
              "      <th>...</th>\n",
              "      <td>...</td>\n",
              "      <td>...</td>\n",
              "      <td>...</td>\n",
              "      <td>...</td>\n",
              "      <td>...</td>\n",
              "      <td>...</td>\n",
              "      <td>...</td>\n",
              "      <td>...</td>\n",
              "      <td>...</td>\n",
              "      <td>...</td>\n",
              "      <td>...</td>\n",
              "    </tr>\n",
              "    <tr>\n",
              "      <th>887</th>\n",
              "      <td>0</td>\n",
              "      <td>27.0</td>\n",
              "      <td>0</td>\n",
              "      <td>0</td>\n",
              "      <td>13.0000</td>\n",
              "      <td>0</td>\n",
              "      <td>0</td>\n",
              "      <td>1</td>\n",
              "      <td>0</td>\n",
              "      <td>0.132527</td>\n",
              "      <td>0</td>\n",
              "    </tr>\n",
              "    <tr>\n",
              "      <th>888</th>\n",
              "      <td>1</td>\n",
              "      <td>19.0</td>\n",
              "      <td>0</td>\n",
              "      <td>0</td>\n",
              "      <td>30.0000</td>\n",
              "      <td>1</td>\n",
              "      <td>1</td>\n",
              "      <td>0</td>\n",
              "      <td>0</td>\n",
              "      <td>0.849399</td>\n",
              "      <td>1</td>\n",
              "    </tr>\n",
              "    <tr>\n",
              "      <th>889</th>\n",
              "      <td>0</td>\n",
              "      <td>0.0</td>\n",
              "      <td>1</td>\n",
              "      <td>2</td>\n",
              "      <td>23.4500</td>\n",
              "      <td>1</td>\n",
              "      <td>0</td>\n",
              "      <td>0</td>\n",
              "      <td>1</td>\n",
              "      <td>0.506236</td>\n",
              "      <td>1</td>\n",
              "    </tr>\n",
              "    <tr>\n",
              "      <th>890</th>\n",
              "      <td>1</td>\n",
              "      <td>26.0</td>\n",
              "      <td>0</td>\n",
              "      <td>0</td>\n",
              "      <td>30.0000</td>\n",
              "      <td>0</td>\n",
              "      <td>1</td>\n",
              "      <td>0</td>\n",
              "      <td>0</td>\n",
              "      <td>0.451815</td>\n",
              "      <td>0</td>\n",
              "    </tr>\n",
              "    <tr>\n",
              "      <th>891</th>\n",
              "      <td>0</td>\n",
              "      <td>32.0</td>\n",
              "      <td>0</td>\n",
              "      <td>0</td>\n",
              "      <td>7.7500</td>\n",
              "      <td>0</td>\n",
              "      <td>0</td>\n",
              "      <td>0</td>\n",
              "      <td>1</td>\n",
              "      <td>0.171650</td>\n",
              "      <td>0</td>\n",
              "    </tr>\n",
              "  </tbody>\n",
              "</table>\n",
              "<p>891 rows × 11 columns</p>\n",
              "</div>"
            ],
            "text/plain": [
              "             target   Age  SibSp  ...  Pclass_3  probabilidade  classificacao\n",
              "PassengerId                       ...                                        \n",
              "1                 0  22.0      1  ...         1       0.128840              0\n",
              "2                 1  38.0      1  ...         0       0.932805              1\n",
              "3                 1  26.0      0  ...         1       0.447328              0\n",
              "4                 1  35.0      1  ...         0       0.912914              1\n",
              "5                 0  35.0      0  ...         1       0.141917              0\n",
              "...             ...   ...    ...  ...       ...            ...            ...\n",
              "887               0  27.0      0  ...         0       0.132527              0\n",
              "888               1  19.0      0  ...         0       0.849399              1\n",
              "889               0   0.0      1  ...         1       0.506236              1\n",
              "890               1  26.0      0  ...         0       0.451815              0\n",
              "891               0  32.0      0  ...         1       0.171650              0\n",
              "\n",
              "[891 rows x 11 columns]"
            ]
          },
          "execution_count": 58,
          "metadata": {
            "tags": []
          },
          "output_type": "execute_result"
        }
      ],
      "source": [
        "dados #análise final do modelo de ML supervisionado para prever a probabilidade de sobrevivência ao acidente do Titanic"
      ]
    }
  ],
  "metadata": {
    "colab": {
      "authorship_tag": "ABX9TyNnkpRbObWQ/O+Iu6uJwyCJ",
      "collapsed_sections": [
        "YJIWYKlBJMZf",
        "Iyf3up1NSoii"
      ],
      "include_colab_link": true,
      "name": "ProjetoDIO_Titanic.ipynb",
      "provenance": []
    },
    "kernelspec": {
      "display_name": "Python 3",
      "name": "python3"
    },
    "language_info": {
      "name": "python"
    }
  },
  "nbformat": 4,
  "nbformat_minor": 0
}
